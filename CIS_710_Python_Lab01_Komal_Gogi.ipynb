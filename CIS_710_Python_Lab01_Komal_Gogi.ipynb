{
  "nbformat": 4,
  "nbformat_minor": 0,
  "metadata": {
    "kernelspec": {
      "display_name": "Python 3",
      "language": "python",
      "name": "python3"
    },
    "language_info": {
      "codemirror_mode": {
        "name": "ipython",
        "version": 3
      },
      "file_extension": ".py",
      "mimetype": "text/x-python",
      "name": "python",
      "nbconvert_exporter": "python",
      "pygments_lexer": "ipython3",
      "version": "3.8.3"
    },
    "widgets": {
      "application/vnd.jupyter.widget-state+json": {
        "64f53ec763bb49608e41979e1d34dcf2": {
          "model_module": "@jupyter-widgets/controls",
          "model_name": "ButtonModel",
          "model_module_version": "1.5.0",
          "state": {
            "_dom_classes": [],
            "_model_module": "@jupyter-widgets/controls",
            "_model_module_version": "1.5.0",
            "_model_name": "ButtonModel",
            "_view_count": null,
            "_view_module": "@jupyter-widgets/controls",
            "_view_module_version": "1.5.0",
            "_view_name": "ButtonView",
            "button_style": "",
            "description": "Check my answer",
            "disabled": false,
            "icon": "",
            "layout": "IPY_MODEL_6fdc0168862343a09bdc7d6df1575579",
            "style": "IPY_MODEL_fb72a1502b94486d95fc3d383a29c600",
            "tooltip": ""
          }
        },
        "6fdc0168862343a09bdc7d6df1575579": {
          "model_module": "@jupyter-widgets/base",
          "model_name": "LayoutModel",
          "model_module_version": "1.2.0",
          "state": {
            "_model_module": "@jupyter-widgets/base",
            "_model_module_version": "1.2.0",
            "_model_name": "LayoutModel",
            "_view_count": null,
            "_view_module": "@jupyter-widgets/base",
            "_view_module_version": "1.2.0",
            "_view_name": "LayoutView",
            "align_content": null,
            "align_items": null,
            "align_self": null,
            "border": null,
            "bottom": null,
            "display": null,
            "flex": null,
            "flex_flow": null,
            "grid_area": null,
            "grid_auto_columns": null,
            "grid_auto_flow": null,
            "grid_auto_rows": null,
            "grid_column": null,
            "grid_gap": null,
            "grid_row": null,
            "grid_template_areas": null,
            "grid_template_columns": null,
            "grid_template_rows": null,
            "height": null,
            "justify_content": null,
            "justify_items": null,
            "left": null,
            "margin": null,
            "max_height": null,
            "max_width": null,
            "min_height": null,
            "min_width": null,
            "object_fit": null,
            "object_position": null,
            "order": null,
            "overflow": null,
            "overflow_x": null,
            "overflow_y": null,
            "padding": null,
            "right": null,
            "top": null,
            "visibility": null,
            "width": null
          }
        },
        "fb72a1502b94486d95fc3d383a29c600": {
          "model_module": "@jupyter-widgets/controls",
          "model_name": "ButtonStyleModel",
          "model_module_version": "1.5.0",
          "state": {
            "_model_module": "@jupyter-widgets/controls",
            "_model_module_version": "1.5.0",
            "_model_name": "ButtonStyleModel",
            "_view_count": null,
            "_view_module": "@jupyter-widgets/base",
            "_view_module_version": "1.2.0",
            "_view_name": "StyleView",
            "button_color": null,
            "font_weight": ""
          }
        },
        "93568e57f8f5457f86ee7ec8a1c52c7b": {
          "model_module": "@jupyter-widgets/controls",
          "model_name": "ButtonModel",
          "model_module_version": "1.5.0",
          "state": {
            "_dom_classes": [],
            "_model_module": "@jupyter-widgets/controls",
            "_model_module_version": "1.5.0",
            "_model_name": "ButtonModel",
            "_view_count": null,
            "_view_module": "@jupyter-widgets/controls",
            "_view_module_version": "1.5.0",
            "_view_name": "ButtonView",
            "button_style": "",
            "description": "Check my answer",
            "disabled": false,
            "icon": "",
            "layout": "IPY_MODEL_9f17f09a67114379ac0f046bb16d515c",
            "style": "IPY_MODEL_a1941be799ab4f5ab6894a9a1e39246f",
            "tooltip": ""
          }
        },
        "9f17f09a67114379ac0f046bb16d515c": {
          "model_module": "@jupyter-widgets/base",
          "model_name": "LayoutModel",
          "model_module_version": "1.2.0",
          "state": {
            "_model_module": "@jupyter-widgets/base",
            "_model_module_version": "1.2.0",
            "_model_name": "LayoutModel",
            "_view_count": null,
            "_view_module": "@jupyter-widgets/base",
            "_view_module_version": "1.2.0",
            "_view_name": "LayoutView",
            "align_content": null,
            "align_items": null,
            "align_self": null,
            "border": null,
            "bottom": null,
            "display": null,
            "flex": null,
            "flex_flow": null,
            "grid_area": null,
            "grid_auto_columns": null,
            "grid_auto_flow": null,
            "grid_auto_rows": null,
            "grid_column": null,
            "grid_gap": null,
            "grid_row": null,
            "grid_template_areas": null,
            "grid_template_columns": null,
            "grid_template_rows": null,
            "height": null,
            "justify_content": null,
            "justify_items": null,
            "left": null,
            "margin": null,
            "max_height": null,
            "max_width": null,
            "min_height": null,
            "min_width": null,
            "object_fit": null,
            "object_position": null,
            "order": null,
            "overflow": null,
            "overflow_x": null,
            "overflow_y": null,
            "padding": null,
            "right": null,
            "top": null,
            "visibility": null,
            "width": null
          }
        },
        "a1941be799ab4f5ab6894a9a1e39246f": {
          "model_module": "@jupyter-widgets/controls",
          "model_name": "ButtonStyleModel",
          "model_module_version": "1.5.0",
          "state": {
            "_model_module": "@jupyter-widgets/controls",
            "_model_module_version": "1.5.0",
            "_model_name": "ButtonStyleModel",
            "_view_count": null,
            "_view_module": "@jupyter-widgets/base",
            "_view_module_version": "1.2.0",
            "_view_name": "StyleView",
            "button_color": null,
            "font_weight": ""
          }
        },
        "97f94f0a0ef647cfac27713ec57e5837": {
          "model_module": "@jupyter-widgets/controls",
          "model_name": "ButtonModel",
          "model_module_version": "1.5.0",
          "state": {
            "_dom_classes": [],
            "_model_module": "@jupyter-widgets/controls",
            "_model_module_version": "1.5.0",
            "_model_name": "ButtonModel",
            "_view_count": null,
            "_view_module": "@jupyter-widgets/controls",
            "_view_module_version": "1.5.0",
            "_view_name": "ButtonView",
            "button_style": "",
            "description": "Check my answer",
            "disabled": false,
            "icon": "",
            "layout": "IPY_MODEL_7ced1b66ac61467093ada335d65d1725",
            "style": "IPY_MODEL_ea603ca047c94b988f792049cfb62330",
            "tooltip": ""
          }
        },
        "7ced1b66ac61467093ada335d65d1725": {
          "model_module": "@jupyter-widgets/base",
          "model_name": "LayoutModel",
          "model_module_version": "1.2.0",
          "state": {
            "_model_module": "@jupyter-widgets/base",
            "_model_module_version": "1.2.0",
            "_model_name": "LayoutModel",
            "_view_count": null,
            "_view_module": "@jupyter-widgets/base",
            "_view_module_version": "1.2.0",
            "_view_name": "LayoutView",
            "align_content": null,
            "align_items": null,
            "align_self": null,
            "border": null,
            "bottom": null,
            "display": null,
            "flex": null,
            "flex_flow": null,
            "grid_area": null,
            "grid_auto_columns": null,
            "grid_auto_flow": null,
            "grid_auto_rows": null,
            "grid_column": null,
            "grid_gap": null,
            "grid_row": null,
            "grid_template_areas": null,
            "grid_template_columns": null,
            "grid_template_rows": null,
            "height": null,
            "justify_content": null,
            "justify_items": null,
            "left": null,
            "margin": null,
            "max_height": null,
            "max_width": null,
            "min_height": null,
            "min_width": null,
            "object_fit": null,
            "object_position": null,
            "order": null,
            "overflow": null,
            "overflow_x": null,
            "overflow_y": null,
            "padding": null,
            "right": null,
            "top": null,
            "visibility": null,
            "width": null
          }
        },
        "ea603ca047c94b988f792049cfb62330": {
          "model_module": "@jupyter-widgets/controls",
          "model_name": "ButtonStyleModel",
          "model_module_version": "1.5.0",
          "state": {
            "_model_module": "@jupyter-widgets/controls",
            "_model_module_version": "1.5.0",
            "_model_name": "ButtonStyleModel",
            "_view_count": null,
            "_view_module": "@jupyter-widgets/base",
            "_view_module_version": "1.2.0",
            "_view_name": "StyleView",
            "button_color": null,
            "font_weight": ""
          }
        },
        "3a98c36b81fc44d288467fca7905917a": {
          "model_module": "@jupyter-widgets/controls",
          "model_name": "ButtonModel",
          "model_module_version": "1.5.0",
          "state": {
            "_dom_classes": [],
            "_model_module": "@jupyter-widgets/controls",
            "_model_module_version": "1.5.0",
            "_model_name": "ButtonModel",
            "_view_count": null,
            "_view_module": "@jupyter-widgets/controls",
            "_view_module_version": "1.5.0",
            "_view_name": "ButtonView",
            "button_style": "",
            "description": "Check my answer",
            "disabled": false,
            "icon": "",
            "layout": "IPY_MODEL_a44713620ff5471fb561e8a9c5ca6e24",
            "style": "IPY_MODEL_97ce44ec740b4d878d1fd7ec1bdfda52",
            "tooltip": ""
          }
        },
        "a44713620ff5471fb561e8a9c5ca6e24": {
          "model_module": "@jupyter-widgets/base",
          "model_name": "LayoutModel",
          "model_module_version": "1.2.0",
          "state": {
            "_model_module": "@jupyter-widgets/base",
            "_model_module_version": "1.2.0",
            "_model_name": "LayoutModel",
            "_view_count": null,
            "_view_module": "@jupyter-widgets/base",
            "_view_module_version": "1.2.0",
            "_view_name": "LayoutView",
            "align_content": null,
            "align_items": null,
            "align_self": null,
            "border": null,
            "bottom": null,
            "display": null,
            "flex": null,
            "flex_flow": null,
            "grid_area": null,
            "grid_auto_columns": null,
            "grid_auto_flow": null,
            "grid_auto_rows": null,
            "grid_column": null,
            "grid_gap": null,
            "grid_row": null,
            "grid_template_areas": null,
            "grid_template_columns": null,
            "grid_template_rows": null,
            "height": null,
            "justify_content": null,
            "justify_items": null,
            "left": null,
            "margin": null,
            "max_height": null,
            "max_width": null,
            "min_height": null,
            "min_width": null,
            "object_fit": null,
            "object_position": null,
            "order": null,
            "overflow": null,
            "overflow_x": null,
            "overflow_y": null,
            "padding": null,
            "right": null,
            "top": null,
            "visibility": null,
            "width": null
          }
        },
        "97ce44ec740b4d878d1fd7ec1bdfda52": {
          "model_module": "@jupyter-widgets/controls",
          "model_name": "ButtonStyleModel",
          "model_module_version": "1.5.0",
          "state": {
            "_model_module": "@jupyter-widgets/controls",
            "_model_module_version": "1.5.0",
            "_model_name": "ButtonStyleModel",
            "_view_count": null,
            "_view_module": "@jupyter-widgets/base",
            "_view_module_version": "1.2.0",
            "_view_name": "StyleView",
            "button_color": null,
            "font_weight": ""
          }
        },
        "4ac34c343437448aba553853b8cad181": {
          "model_module": "@jupyter-widgets/controls",
          "model_name": "ButtonModel",
          "model_module_version": "1.5.0",
          "state": {
            "_dom_classes": [],
            "_model_module": "@jupyter-widgets/controls",
            "_model_module_version": "1.5.0",
            "_model_name": "ButtonModel",
            "_view_count": null,
            "_view_module": "@jupyter-widgets/controls",
            "_view_module_version": "1.5.0",
            "_view_name": "ButtonView",
            "button_style": "",
            "description": "Check my answer",
            "disabled": false,
            "icon": "",
            "layout": "IPY_MODEL_59758610dff74fb282b8342a8a73cb2f",
            "style": "IPY_MODEL_3b3d5db62b484b1f9ea1e98a10d0c839",
            "tooltip": ""
          }
        },
        "59758610dff74fb282b8342a8a73cb2f": {
          "model_module": "@jupyter-widgets/base",
          "model_name": "LayoutModel",
          "model_module_version": "1.2.0",
          "state": {
            "_model_module": "@jupyter-widgets/base",
            "_model_module_version": "1.2.0",
            "_model_name": "LayoutModel",
            "_view_count": null,
            "_view_module": "@jupyter-widgets/base",
            "_view_module_version": "1.2.0",
            "_view_name": "LayoutView",
            "align_content": null,
            "align_items": null,
            "align_self": null,
            "border": null,
            "bottom": null,
            "display": null,
            "flex": null,
            "flex_flow": null,
            "grid_area": null,
            "grid_auto_columns": null,
            "grid_auto_flow": null,
            "grid_auto_rows": null,
            "grid_column": null,
            "grid_gap": null,
            "grid_row": null,
            "grid_template_areas": null,
            "grid_template_columns": null,
            "grid_template_rows": null,
            "height": null,
            "justify_content": null,
            "justify_items": null,
            "left": null,
            "margin": null,
            "max_height": null,
            "max_width": null,
            "min_height": null,
            "min_width": null,
            "object_fit": null,
            "object_position": null,
            "order": null,
            "overflow": null,
            "overflow_x": null,
            "overflow_y": null,
            "padding": null,
            "right": null,
            "top": null,
            "visibility": null,
            "width": null
          }
        },
        "3b3d5db62b484b1f9ea1e98a10d0c839": {
          "model_module": "@jupyter-widgets/controls",
          "model_name": "ButtonStyleModel",
          "model_module_version": "1.5.0",
          "state": {
            "_model_module": "@jupyter-widgets/controls",
            "_model_module_version": "1.5.0",
            "_model_name": "ButtonStyleModel",
            "_view_count": null,
            "_view_module": "@jupyter-widgets/base",
            "_view_module_version": "1.2.0",
            "_view_name": "StyleView",
            "button_color": null,
            "font_weight": ""
          }
        },
        "667a908c8f02482c82b58432bc529667": {
          "model_module": "@jupyter-widgets/controls",
          "model_name": "ButtonModel",
          "model_module_version": "1.5.0",
          "state": {
            "_dom_classes": [],
            "_model_module": "@jupyter-widgets/controls",
            "_model_module_version": "1.5.0",
            "_model_name": "ButtonModel",
            "_view_count": null,
            "_view_module": "@jupyter-widgets/controls",
            "_view_module_version": "1.5.0",
            "_view_name": "ButtonView",
            "button_style": "",
            "description": "Check my answer",
            "disabled": false,
            "icon": "",
            "layout": "IPY_MODEL_2430b5acc07e475e878e27167eb7ef0d",
            "style": "IPY_MODEL_d1245cc6afff4acbabed45c8170dc98e",
            "tooltip": ""
          }
        },
        "2430b5acc07e475e878e27167eb7ef0d": {
          "model_module": "@jupyter-widgets/base",
          "model_name": "LayoutModel",
          "model_module_version": "1.2.0",
          "state": {
            "_model_module": "@jupyter-widgets/base",
            "_model_module_version": "1.2.0",
            "_model_name": "LayoutModel",
            "_view_count": null,
            "_view_module": "@jupyter-widgets/base",
            "_view_module_version": "1.2.0",
            "_view_name": "LayoutView",
            "align_content": null,
            "align_items": null,
            "align_self": null,
            "border": null,
            "bottom": null,
            "display": null,
            "flex": null,
            "flex_flow": null,
            "grid_area": null,
            "grid_auto_columns": null,
            "grid_auto_flow": null,
            "grid_auto_rows": null,
            "grid_column": null,
            "grid_gap": null,
            "grid_row": null,
            "grid_template_areas": null,
            "grid_template_columns": null,
            "grid_template_rows": null,
            "height": null,
            "justify_content": null,
            "justify_items": null,
            "left": null,
            "margin": null,
            "max_height": null,
            "max_width": null,
            "min_height": null,
            "min_width": null,
            "object_fit": null,
            "object_position": null,
            "order": null,
            "overflow": null,
            "overflow_x": null,
            "overflow_y": null,
            "padding": null,
            "right": null,
            "top": null,
            "visibility": null,
            "width": null
          }
        },
        "d1245cc6afff4acbabed45c8170dc98e": {
          "model_module": "@jupyter-widgets/controls",
          "model_name": "ButtonStyleModel",
          "model_module_version": "1.5.0",
          "state": {
            "_model_module": "@jupyter-widgets/controls",
            "_model_module_version": "1.5.0",
            "_model_name": "ButtonStyleModel",
            "_view_count": null,
            "_view_module": "@jupyter-widgets/base",
            "_view_module_version": "1.2.0",
            "_view_name": "StyleView",
            "button_color": null,
            "font_weight": ""
          }
        },
        "02eeeb0ae75442e9a945bac7df57e92d": {
          "model_module": "@jupyter-widgets/controls",
          "model_name": "ButtonModel",
          "model_module_version": "1.5.0",
          "state": {
            "_dom_classes": [],
            "_model_module": "@jupyter-widgets/controls",
            "_model_module_version": "1.5.0",
            "_model_name": "ButtonModel",
            "_view_count": null,
            "_view_module": "@jupyter-widgets/controls",
            "_view_module_version": "1.5.0",
            "_view_name": "ButtonView",
            "button_style": "",
            "description": "Check my answer",
            "disabled": false,
            "icon": "",
            "layout": "IPY_MODEL_a8f7aca1eb514ccd8afb41c5537ec279",
            "style": "IPY_MODEL_8a03058d3b4b47d3b162343a52fb648c",
            "tooltip": ""
          }
        },
        "a8f7aca1eb514ccd8afb41c5537ec279": {
          "model_module": "@jupyter-widgets/base",
          "model_name": "LayoutModel",
          "model_module_version": "1.2.0",
          "state": {
            "_model_module": "@jupyter-widgets/base",
            "_model_module_version": "1.2.0",
            "_model_name": "LayoutModel",
            "_view_count": null,
            "_view_module": "@jupyter-widgets/base",
            "_view_module_version": "1.2.0",
            "_view_name": "LayoutView",
            "align_content": null,
            "align_items": null,
            "align_self": null,
            "border": null,
            "bottom": null,
            "display": null,
            "flex": null,
            "flex_flow": null,
            "grid_area": null,
            "grid_auto_columns": null,
            "grid_auto_flow": null,
            "grid_auto_rows": null,
            "grid_column": null,
            "grid_gap": null,
            "grid_row": null,
            "grid_template_areas": null,
            "grid_template_columns": null,
            "grid_template_rows": null,
            "height": null,
            "justify_content": null,
            "justify_items": null,
            "left": null,
            "margin": null,
            "max_height": null,
            "max_width": null,
            "min_height": null,
            "min_width": null,
            "object_fit": null,
            "object_position": null,
            "order": null,
            "overflow": null,
            "overflow_x": null,
            "overflow_y": null,
            "padding": null,
            "right": null,
            "top": null,
            "visibility": null,
            "width": null
          }
        },
        "8a03058d3b4b47d3b162343a52fb648c": {
          "model_module": "@jupyter-widgets/controls",
          "model_name": "ButtonStyleModel",
          "model_module_version": "1.5.0",
          "state": {
            "_model_module": "@jupyter-widgets/controls",
            "_model_module_version": "1.5.0",
            "_model_name": "ButtonStyleModel",
            "_view_count": null,
            "_view_module": "@jupyter-widgets/base",
            "_view_module_version": "1.2.0",
            "_view_name": "StyleView",
            "button_color": null,
            "font_weight": ""
          }
        },
        "fa6299e46d0b4445b7073caffef154fd": {
          "model_module": "@jupyter-widgets/controls",
          "model_name": "ButtonModel",
          "model_module_version": "1.5.0",
          "state": {
            "_dom_classes": [],
            "_model_module": "@jupyter-widgets/controls",
            "_model_module_version": "1.5.0",
            "_model_name": "ButtonModel",
            "_view_count": null,
            "_view_module": "@jupyter-widgets/controls",
            "_view_module_version": "1.5.0",
            "_view_name": "ButtonView",
            "button_style": "",
            "description": "Check my answer",
            "disabled": false,
            "icon": "",
            "layout": "IPY_MODEL_32e18ffdb1614fa6a0c4d17d4aed7b1f",
            "style": "IPY_MODEL_8fbd90fb9a064cb5983d67889dc08ed0",
            "tooltip": ""
          }
        },
        "32e18ffdb1614fa6a0c4d17d4aed7b1f": {
          "model_module": "@jupyter-widgets/base",
          "model_name": "LayoutModel",
          "model_module_version": "1.2.0",
          "state": {
            "_model_module": "@jupyter-widgets/base",
            "_model_module_version": "1.2.0",
            "_model_name": "LayoutModel",
            "_view_count": null,
            "_view_module": "@jupyter-widgets/base",
            "_view_module_version": "1.2.0",
            "_view_name": "LayoutView",
            "align_content": null,
            "align_items": null,
            "align_self": null,
            "border": null,
            "bottom": null,
            "display": null,
            "flex": null,
            "flex_flow": null,
            "grid_area": null,
            "grid_auto_columns": null,
            "grid_auto_flow": null,
            "grid_auto_rows": null,
            "grid_column": null,
            "grid_gap": null,
            "grid_row": null,
            "grid_template_areas": null,
            "grid_template_columns": null,
            "grid_template_rows": null,
            "height": null,
            "justify_content": null,
            "justify_items": null,
            "left": null,
            "margin": null,
            "max_height": null,
            "max_width": null,
            "min_height": null,
            "min_width": null,
            "object_fit": null,
            "object_position": null,
            "order": null,
            "overflow": null,
            "overflow_x": null,
            "overflow_y": null,
            "padding": null,
            "right": null,
            "top": null,
            "visibility": null,
            "width": null
          }
        },
        "8fbd90fb9a064cb5983d67889dc08ed0": {
          "model_module": "@jupyter-widgets/controls",
          "model_name": "ButtonStyleModel",
          "model_module_version": "1.5.0",
          "state": {
            "_model_module": "@jupyter-widgets/controls",
            "_model_module_version": "1.5.0",
            "_model_name": "ButtonStyleModel",
            "_view_count": null,
            "_view_module": "@jupyter-widgets/base",
            "_view_module_version": "1.2.0",
            "_view_name": "StyleView",
            "button_color": null,
            "font_weight": ""
          }
        },
        "68d042f2d51f44a794339c447eb71408": {
          "model_module": "@jupyter-widgets/controls",
          "model_name": "ButtonModel",
          "model_module_version": "1.5.0",
          "state": {
            "_dom_classes": [],
            "_model_module": "@jupyter-widgets/controls",
            "_model_module_version": "1.5.0",
            "_model_name": "ButtonModel",
            "_view_count": null,
            "_view_module": "@jupyter-widgets/controls",
            "_view_module_version": "1.5.0",
            "_view_name": "ButtonView",
            "button_style": "",
            "description": "Check my answer",
            "disabled": false,
            "icon": "",
            "layout": "IPY_MODEL_02612d9cb95a4ef1bc9436b248b80abc",
            "style": "IPY_MODEL_f358ab177c204eae93133c1cf9f770c9",
            "tooltip": ""
          }
        },
        "02612d9cb95a4ef1bc9436b248b80abc": {
          "model_module": "@jupyter-widgets/base",
          "model_name": "LayoutModel",
          "model_module_version": "1.2.0",
          "state": {
            "_model_module": "@jupyter-widgets/base",
            "_model_module_version": "1.2.0",
            "_model_name": "LayoutModel",
            "_view_count": null,
            "_view_module": "@jupyter-widgets/base",
            "_view_module_version": "1.2.0",
            "_view_name": "LayoutView",
            "align_content": null,
            "align_items": null,
            "align_self": null,
            "border": null,
            "bottom": null,
            "display": null,
            "flex": null,
            "flex_flow": null,
            "grid_area": null,
            "grid_auto_columns": null,
            "grid_auto_flow": null,
            "grid_auto_rows": null,
            "grid_column": null,
            "grid_gap": null,
            "grid_row": null,
            "grid_template_areas": null,
            "grid_template_columns": null,
            "grid_template_rows": null,
            "height": null,
            "justify_content": null,
            "justify_items": null,
            "left": null,
            "margin": null,
            "max_height": null,
            "max_width": null,
            "min_height": null,
            "min_width": null,
            "object_fit": null,
            "object_position": null,
            "order": null,
            "overflow": null,
            "overflow_x": null,
            "overflow_y": null,
            "padding": null,
            "right": null,
            "top": null,
            "visibility": null,
            "width": null
          }
        },
        "f358ab177c204eae93133c1cf9f770c9": {
          "model_module": "@jupyter-widgets/controls",
          "model_name": "ButtonStyleModel",
          "model_module_version": "1.5.0",
          "state": {
            "_model_module": "@jupyter-widgets/controls",
            "_model_module_version": "1.5.0",
            "_model_name": "ButtonStyleModel",
            "_view_count": null,
            "_view_module": "@jupyter-widgets/base",
            "_view_module_version": "1.2.0",
            "_view_name": "StyleView",
            "button_color": null,
            "font_weight": ""
          }
        },
        "29d37d67a025479ab205f699f5103dc6": {
          "model_module": "@jupyter-widgets/controls",
          "model_name": "ButtonModel",
          "model_module_version": "1.5.0",
          "state": {
            "_dom_classes": [],
            "_model_module": "@jupyter-widgets/controls",
            "_model_module_version": "1.5.0",
            "_model_name": "ButtonModel",
            "_view_count": null,
            "_view_module": "@jupyter-widgets/controls",
            "_view_module_version": "1.5.0",
            "_view_name": "ButtonView",
            "button_style": "",
            "description": "Check my answer",
            "disabled": false,
            "icon": "",
            "layout": "IPY_MODEL_3e200328d63f4e8ba2ecd07920016dab",
            "style": "IPY_MODEL_76e06eb725c148139080475a0d1ef023",
            "tooltip": ""
          }
        },
        "3e200328d63f4e8ba2ecd07920016dab": {
          "model_module": "@jupyter-widgets/base",
          "model_name": "LayoutModel",
          "model_module_version": "1.2.0",
          "state": {
            "_model_module": "@jupyter-widgets/base",
            "_model_module_version": "1.2.0",
            "_model_name": "LayoutModel",
            "_view_count": null,
            "_view_module": "@jupyter-widgets/base",
            "_view_module_version": "1.2.0",
            "_view_name": "LayoutView",
            "align_content": null,
            "align_items": null,
            "align_self": null,
            "border": null,
            "bottom": null,
            "display": null,
            "flex": null,
            "flex_flow": null,
            "grid_area": null,
            "grid_auto_columns": null,
            "grid_auto_flow": null,
            "grid_auto_rows": null,
            "grid_column": null,
            "grid_gap": null,
            "grid_row": null,
            "grid_template_areas": null,
            "grid_template_columns": null,
            "grid_template_rows": null,
            "height": null,
            "justify_content": null,
            "justify_items": null,
            "left": null,
            "margin": null,
            "max_height": null,
            "max_width": null,
            "min_height": null,
            "min_width": null,
            "object_fit": null,
            "object_position": null,
            "order": null,
            "overflow": null,
            "overflow_x": null,
            "overflow_y": null,
            "padding": null,
            "right": null,
            "top": null,
            "visibility": null,
            "width": null
          }
        },
        "76e06eb725c148139080475a0d1ef023": {
          "model_module": "@jupyter-widgets/controls",
          "model_name": "ButtonStyleModel",
          "model_module_version": "1.5.0",
          "state": {
            "_model_module": "@jupyter-widgets/controls",
            "_model_module_version": "1.5.0",
            "_model_name": "ButtonStyleModel",
            "_view_count": null,
            "_view_module": "@jupyter-widgets/base",
            "_view_module_version": "1.2.0",
            "_view_name": "StyleView",
            "button_color": null,
            "font_weight": ""
          }
        },
        "ee08e18ad55d4b93a71621f166db8bbe": {
          "model_module": "@jupyter-widgets/controls",
          "model_name": "ButtonModel",
          "model_module_version": "1.5.0",
          "state": {
            "_dom_classes": [],
            "_model_module": "@jupyter-widgets/controls",
            "_model_module_version": "1.5.0",
            "_model_name": "ButtonModel",
            "_view_count": null,
            "_view_module": "@jupyter-widgets/controls",
            "_view_module_version": "1.5.0",
            "_view_name": "ButtonView",
            "button_style": "",
            "description": "Check my answer",
            "disabled": false,
            "icon": "",
            "layout": "IPY_MODEL_d07e287e90944e9588cd6108e89df814",
            "style": "IPY_MODEL_b25fbc4820ac49acbc71f666b4f18cf5",
            "tooltip": ""
          }
        },
        "d07e287e90944e9588cd6108e89df814": {
          "model_module": "@jupyter-widgets/base",
          "model_name": "LayoutModel",
          "model_module_version": "1.2.0",
          "state": {
            "_model_module": "@jupyter-widgets/base",
            "_model_module_version": "1.2.0",
            "_model_name": "LayoutModel",
            "_view_count": null,
            "_view_module": "@jupyter-widgets/base",
            "_view_module_version": "1.2.0",
            "_view_name": "LayoutView",
            "align_content": null,
            "align_items": null,
            "align_self": null,
            "border": null,
            "bottom": null,
            "display": null,
            "flex": null,
            "flex_flow": null,
            "grid_area": null,
            "grid_auto_columns": null,
            "grid_auto_flow": null,
            "grid_auto_rows": null,
            "grid_column": null,
            "grid_gap": null,
            "grid_row": null,
            "grid_template_areas": null,
            "grid_template_columns": null,
            "grid_template_rows": null,
            "height": null,
            "justify_content": null,
            "justify_items": null,
            "left": null,
            "margin": null,
            "max_height": null,
            "max_width": null,
            "min_height": null,
            "min_width": null,
            "object_fit": null,
            "object_position": null,
            "order": null,
            "overflow": null,
            "overflow_x": null,
            "overflow_y": null,
            "padding": null,
            "right": null,
            "top": null,
            "visibility": null,
            "width": null
          }
        },
        "b25fbc4820ac49acbc71f666b4f18cf5": {
          "model_module": "@jupyter-widgets/controls",
          "model_name": "ButtonStyleModel",
          "model_module_version": "1.5.0",
          "state": {
            "_model_module": "@jupyter-widgets/controls",
            "_model_module_version": "1.5.0",
            "_model_name": "ButtonStyleModel",
            "_view_count": null,
            "_view_module": "@jupyter-widgets/base",
            "_view_module_version": "1.2.0",
            "_view_name": "StyleView",
            "button_color": null,
            "font_weight": ""
          }
        }
      }
    },
    "colab": {
      "provenance": []
    }
  },
  "cells": [
    {
      "cell_type": "markdown",
      "metadata": {
        "id": "8UM6AT1XH0e1"
      },
      "source": [
        "![University of Wisconsin - Parkside](https://www.uwp.edu/explore/offices/marketingcommunications/styleguide/upload/Horizontal_Wordmark_Web.png \"University of Wisconsin - Parkside\")\n",
        "\n",
        "<h1><center>Introduction to Python CIS 710</center></h1>\n",
        "You've all had many programming courses covering loops, if/else, functions, and all this good stuff! But you may not have seen how to write it in Python which is the <i>de facto</i> language for data science (together with <b>R</b> for more statistical-oriented tasks). This notebook will show you how to write these concepts that you already know (e.g., loops) in Python. The notions will be put to practice through <font color='red'>exercises that are automatically checked by the notebook</font>, so that you can know whether you got it right or not. The assignment that you'll start after this notebook <i>is</i> graded.\n",
        "\n",
        "This notebook will address the following <font color='red'>key notions</font> in turn:\n",
        "1. Getting __help__ from Python and the notebook.\n",
        "2. __Control structures__ including if, loops (for/while), and functions.\n",
        "\n",
        "After reading the explanations for each notion, you can do the corresponding <font color='red'>practice exercises</font>. Starting from section 2, the exercises are automatically evaluated. <b>First run the button</b> (or if you cannot see it click Cell>Run All), <b>then click on Evaluate</b> to know whether your answer is correct. You can correct your answer as much as needed. The goal is for everyone to be ready for the course by having an entirely correct notebook. We want you to succeed! \n",
        "\n",
        "---"
      ]
    },
    {
      "cell_type": "markdown",
      "metadata": {
        "id": "sNegYY6sH0e5"
      },
      "source": [
        "# 1. Getting help\n",
        "You can 'talk' to the Python built-in helpdesk by typing\n",
        "$help()$\n",
        "Then, you can:\n",
        "* ask Python about anything, such as the _if_ command\n",
        "* _quit_ when you are done. Before starting anything, you should know how to stop it.\n",
        "\n",
        ">___Exercise 1.1___\n",
        ">\n",
        ">In the coding cell below, call the help then ask about the _if_ command.\n",
        ">See what related 'help topic' is suggested, and ask about it.\n",
        ">Finally, _quit_ the helpdesk."
      ]
    },
    {
      "cell_type": "code",
      "metadata": {
        "id": "EKMf-buKH0e6",
        "colab": {
          "base_uri": "https://localhost:8080/"
        },
        "outputId": "98d28338-c15a-44cb-f95e-9ee4e4037792"
      },
      "source": [
        "# Your code goes here!\n",
        "help()\n"
      ],
      "execution_count": 28,
      "outputs": [
        {
          "output_type": "stream",
          "name": "stdout",
          "text": [
            "\n",
            "Welcome to Python 3.7's help utility!\n",
            "\n",
            "If this is your first time using Python, you should definitely check out\n",
            "the tutorial on the Internet at https://docs.python.org/3.7/tutorial/.\n",
            "\n",
            "Enter the name of any module, keyword, or topic to get help on writing\n",
            "Python programs and using Python modules.  To quit this help utility and\n",
            "return to the interpreter, just type \"quit\".\n",
            "\n",
            "To get a list of available modules, keywords, symbols, or topics, type\n",
            "\"modules\", \"keywords\", \"symbols\", or \"topics\".  Each module also comes\n",
            "with a one-line summary of what it does; to list the modules whose name\n",
            "or summary contain a given string such as \"spam\", type \"modules spam\".\n",
            "\n",
            "help> if\n",
            "The \"if\" statement\n",
            "******************\n",
            "\n",
            "The \"if\" statement is used for conditional execution:\n",
            "\n",
            "   if_stmt ::= \"if\" expression \":\" suite\n",
            "               (\"elif\" expression \":\" suite)*\n",
            "               [\"else\" \":\" suite]\n",
            "\n",
            "It selects exactly one of the suites by evaluating the expressions one\n",
            "by one until one is found to be true (see section Boolean operations\n",
            "for the definition of true and false); then that suite is executed\n",
            "(and no other part of the \"if\" statement is executed or evaluated).\n",
            "If all expressions are false, the suite of the \"else\" clause, if\n",
            "present, is executed.\n",
            "\n",
            "Related help topics: TRUTHVALUE\n",
            "\n",
            "help> TRUTHVALUE\n",
            "Truth Value Testing\n",
            "*******************\n",
            "\n",
            "Any object can be tested for truth value, for use in an \"if\" or\n",
            "\"while\" condition or as operand of the Boolean operations below.\n",
            "\n",
            "By default, an object is considered true unless its class defines\n",
            "either a \"__bool__()\" method that returns \"False\" or a \"__len__()\"\n",
            "method that returns zero, when called with the object. [1]  Here are\n",
            "most of the built-in objects considered false:\n",
            "\n",
            "* constants defined to be false: \"None\" and \"False\".\n",
            "\n",
            "* zero of any numeric type: \"0\", \"0.0\", \"0j\", \"Decimal(0)\",\n",
            "  \"Fraction(0, 1)\"\n",
            "\n",
            "* empty sequences and collections: \"''\", \"()\", \"[]\", \"{}\", \"set()\",\n",
            "  \"range(0)\"\n",
            "\n",
            "Operations and built-in functions that have a Boolean result always\n",
            "return \"0\" or \"False\" for false and \"1\" or \"True\" for true, unless\n",
            "otherwise stated. (Important exception: the Boolean operations \"or\"\n",
            "and \"and\" always return one of their operands.)\n",
            "\n",
            "Related help topics: if, while, and, or, not, BASICMETHODS\n",
            "\n",
            "help> quit\n",
            "\n",
            "You are now leaving help and returning to the Python interpreter.\n",
            "If you want to ask for help on a particular object directly from the\n",
            "interpreter, you can type \"help(object)\".  Executing \"help('string')\"\n",
            "has the same effect as typing a particular string at the help> prompt.\n"
          ]
        }
      ]
    },
    {
      "cell_type": "markdown",
      "metadata": {
        "id": "fMUy1QirH0e8"
      },
      "source": [
        "When you start a resource, it's _used_ by you until you tell the system that you're done. _Not_ telling the system that you're done can prevent you from accessing the resource again. The built-in helpdesk is an example for this. \n",
        "\n",
        ">___Exercise 1.2 (start)___\n",
        ">\n",
        ">In the cell below, call the built-in helpdesk. Instead of closing it properly (by saying exit), just dispose of the cell (e.g. by clicking on the delete icon to cut it)."
      ]
    },
    {
      "cell_type": "markdown",
      "metadata": {
        "id": "e3QYdJogH0e8"
      },
      "source": [
        ">___Exercise 1.2 (cont.)___\n",
        ">\n",
        ">In the cell below, call the built-in helpdesk again. What problem do you observe? <b>How do you fix it?</b><br>\n",
        "> <i>(Hint: The best solution in computer science is often to reboot. In a notebook, you can restart the kernel.)</i>"
      ]
    },
    {
      "cell_type": "code",
      "source": [
        "# Your Code goes here\n",
        "help()\n"
      ],
      "metadata": {
        "id": "K-3XCgsyRY-g",
        "colab": {
          "base_uri": "https://localhost:8080/"
        },
        "outputId": "bae97bd4-f775-4ecc-f5ac-60a86487a0eb"
      },
      "execution_count": 29,
      "outputs": [
        {
          "output_type": "stream",
          "name": "stdout",
          "text": [
            "\n",
            "Welcome to Python 3.7's help utility!\n",
            "\n",
            "If this is your first time using Python, you should definitely check out\n",
            "the tutorial on the Internet at https://docs.python.org/3.7/tutorial/.\n",
            "\n",
            "Enter the name of any module, keyword, or topic to get help on writing\n",
            "Python programs and using Python modules.  To quit this help utility and\n",
            "return to the interpreter, just type \"quit\".\n",
            "\n",
            "To get a list of available modules, keywords, symbols, or topics, type\n",
            "\"modules\", \"keywords\", \"symbols\", or \"topics\".  Each module also comes\n",
            "with a one-line summary of what it does; to list the modules whose name\n",
            "or summary contain a given string such as \"spam\", type \"modules spam\".\n",
            "\n",
            "\n",
            "You are now leaving help and returning to the Python interpreter.\n",
            "If you want to ask for help on a particular object directly from the\n",
            "interpreter, you can type \"help(object)\".  Executing \"help('string')\"\n",
            "has the same effect as typing a particular string at the help> prompt.\n"
          ]
        }
      ]
    },
    {
      "cell_type": "markdown",
      "metadata": {
        "id": "GRebegN_H0e9"
      },
      "source": [
        "In addition to the built-in helpdesk, the Colab Notebook (i.e. the environment that you're currently running) comes with some built-in help. In particular, writing _?_ followed by any built-in types will tell you about them. For example, _?int_ will tell you about the _int_ type. You can get the same result if you call it on a variable of type _int_, such as:\n",
        "$$i=1$$\n",
        "$$?i$$\n",
        "\n",
        ">___Exercise 1.3___\n",
        ">\n",
        ">In the cell below, ask the notebook about any built-in type you want _other than_ int."
      ]
    },
    {
      "cell_type": "code",
      "metadata": {
        "id": "KVzMZhHfH0e-"
      },
      "source": [
        "# Your code goes here\n",
        "a = True\n",
        "?a"
      ],
      "execution_count": 26,
      "outputs": []
    },
    {
      "cell_type": "markdown",
      "metadata": {
        "id": "-imw0dq3H0e_"
      },
      "source": [
        "---\n",
        "# 2. Control structures\n",
        "## 2.1 While loops\n",
        "If you draw a schema of a repeated action, you will end up with a loop. For example, imagine that you are searching for a file on your computer. For each of them, your eyes check whether it’s the right title. If it is, then you’re done. But if it’s not the title you’re looking for, then your eyes move to the next file and __repeat__ the same action (see Figure 1a below). This exhibits the main feature of repetition: you have a condition that checks whether you’re done, and if you are not then you repeat the actions again.\n",
        "\n",
        "Another example? Imagine that you have to have a spreadsheet and you want to add the numbers contained in all the cells of a same column (see Figure 1b below). The action that you repeat is that you look at every cell and you add its content to the sum that you’re computing. The condition of this loop is to know whether there are more cells to process.\n",
        "![Loops](refresherImg/loop1.png)\n",
        "\n",
        "Writing a __while__ loop always obeys the following pattern:\n",
        "* Create the variables you need specifically for the loop, including the loop's variable and any statistics to be computed in the loop.\n",
        "* Condition for the look to keep running. Sometimes it's simpler to _think_ of what it takes for the loop to _stop_: when that happens, you can start writing the condition to stop and then logically reverse it (e.g., 'or' becomes 'and', '<' becomes '>=')\n",
        "* Actions that will be repeated. As many actions as you want.\n",
        "* Move to the next element to process. The condition in some while loops may already be moving you (e.g. when you read a file), but in other cases you have to manually move by updating the loop's variable.\n",
        "\n",
        "This being all quite theoretical... Let's look at an example. You're driving to pick up groceries, and you need to go four miles. After one mile, you check if you're there. If not yet, you keep going, until you reach four miles. This process fits into the following template:\n",
        "![Loops](refresherImg/loop2.png)\n",
        "\n",
        "\n",
        ">___Exercise 2.1.1.a___\n",
        ">\n",
        ">Imagine that I’ll be eating many cheesecakes, and each of them has 575 calories. I want to know how many calories I’ll have eaten in total. Think of eating cheesecakes as a __repeated__ action taking place in a loop. Complete the function below so that it returns the number of calories."
      ]
    },
    {
      "cell_type": "code",
      "metadata": {
        "id": "9xyFA7qcH0fA",
        "colab": {
          "base_uri": "https://localhost:8080/"
        },
        "outputId": "4451622c-0b67-4453-d8c6-bfa296d13a1c"
      },
      "source": [
        "def calories(numberOfCheesecakes):\n",
        "    n = 575\n",
        "    while True:\n",
        "      totalCalories = n * numberOfCheesecakes   \n",
        "      return totalCalories\n",
        "\n",
        "calories(3)"
      ],
      "execution_count": 30,
      "outputs": [
        {
          "output_type": "execute_result",
          "data": {
            "text/plain": [
              "1725"
            ]
          },
          "metadata": {},
          "execution_count": 30
        }
      ]
    },
    {
      "cell_type": "code",
      "metadata": {
        "hide_input": true,
        "id": "JCt7qolhH0fB",
        "outputId": "3d60a4ea-fd06-4b9e-e5b6-d00affe6e697",
        "colab": {
          "referenced_widgets": [
            "93568e57f8f5457f86ee7ec8a1c52c7b",
            "9f17f09a67114379ac0f046bb16d515c",
            "a1941be799ab4f5ab6894a9a1e39246f"
          ],
          "base_uri": "https://localhost:8080/",
          "height": 67
        }
      },
      "source": [
        "# Don't make any changes to the tester below. \n",
        "# Just run this code cell to see if the calaries() function is correct.\n",
        "from ipywidgets import widgets\n",
        "from IPython.display import display\n",
        "buttonSec211a=widgets.Button(description=\"Check my answer\")\n",
        "def evalSection211a(b):\n",
        "    if(calories(1)==575 and calories(54)==54*575):\n",
        "        print(\"Your answer to 2.1.1.a is correct.\")\n",
        "    else:\n",
        "        print(\"Your answer to 2.1.1.a is NOT correct.\")\n",
        "    \n",
        "buttonSec211a.on_click(evalSection211a)\n",
        "display(buttonSec211a)"
      ],
      "execution_count": 31,
      "outputs": [
        {
          "output_type": "display_data",
          "data": {
            "text/plain": [
              "Button(description='Check my answer', style=ButtonStyle())"
            ],
            "application/vnd.jupyter.widget-view+json": {
              "version_major": 2,
              "version_minor": 0,
              "model_id": "93568e57f8f5457f86ee7ec8a1c52c7b"
            }
          },
          "metadata": {}
        },
        {
          "output_type": "stream",
          "name": "stdout",
          "text": [
            "Your answer to 2.1.1.a is correct.\n"
          ]
        }
      ]
    },
    {
      "cell_type": "markdown",
      "metadata": {
        "id": "8RXvVjrfH0fB"
      },
      "source": [
        ">___Exercise 2.1.1.b___\n",
        ">\n",
        ">Imagine that your partner has put you on a diet ( :( ). He’ll ask you to report how many calories you’ve eaten. Since you’re a bit sneaky, you’ll only count half of the cheesecakes you’re eating! From a code standpoint, once you’re done adding the calories for one cheesecake, you don’t do it for the next cheesecake: you skip it, and you go two cheesecakes ahead. Complete the function below to reflect this logic."
      ]
    },
    {
      "cell_type": "code",
      "metadata": {
        "id": "VqwcX2tJH0fC",
        "colab": {
          "base_uri": "https://localhost:8080/"
        },
        "outputId": "894ada75-7025-43d7-913a-7cd49856739c"
      },
      "source": [
        "def sneakyFatHobbit(numberOfCheesecakes):\n",
        "    k = 1\n",
        "    n = 575\n",
        "    totalCalories = 0\n",
        "    while numberOfCheesecakes >= k:\n",
        "      totalCalories += 1\n",
        "      k += 2\n",
        "    return totalCalories * n\n",
        "\n",
        "sneakyFatHobbit(2)"
      ],
      "execution_count": 8,
      "outputs": [
        {
          "output_type": "execute_result",
          "data": {
            "text/plain": [
              "575"
            ]
          },
          "metadata": {},
          "execution_count": 8
        }
      ]
    },
    {
      "cell_type": "code",
      "metadata": {
        "hide_input": true,
        "id": "MSAKbYuvH0fC",
        "outputId": "801bba04-a168-4333-da55-53d34f7c2609",
        "colab": {
          "referenced_widgets": [
            "97f94f0a0ef647cfac27713ec57e5837",
            "7ced1b66ac61467093ada335d65d1725",
            "ea603ca047c94b988f792049cfb62330"
          ],
          "base_uri": "https://localhost:8080/",
          "height": 67
        }
      },
      "source": [
        "# Don't make any changes to the tester below. \n",
        "# Just run this code cell to see if the sneakyFatHobbit() function is correct.\n",
        "\n",
        "from ipywidgets import widgets\n",
        "from IPython.display import display\n",
        "buttonSec211b=widgets.Button(description=\"Check my answer\")\n",
        "def evalSection211b(b):\n",
        "    if(sneakyFatHobbit(1)==575 and sneakyFatHobbit(2)==575 and sneakyFatHobbit(3)==575*2):\n",
        "        print(\"Your answer to 2.1.1.b is correct.\")\n",
        "    else:\n",
        "        print(\"Your answer to 2.1.1.b is NOT correct.\")\n",
        "    \n",
        "buttonSec211b.on_click(evalSection211b)\n",
        "display(buttonSec211b)"
      ],
      "execution_count": 9,
      "outputs": [
        {
          "output_type": "display_data",
          "data": {
            "text/plain": [
              "Button(description='Check my answer', style=ButtonStyle())"
            ],
            "application/vnd.jupyter.widget-view+json": {
              "version_major": 2,
              "version_minor": 0,
              "model_id": "97f94f0a0ef647cfac27713ec57e5837"
            }
          },
          "metadata": {}
        },
        {
          "output_type": "stream",
          "name": "stdout",
          "text": [
            "Your answer to 2.1.1.b is correct.\n"
          ]
        }
      ]
    },
    {
      "cell_type": "markdown",
      "metadata": {
        "id": "imqBX6ZhH0fD"
      },
      "source": [
        ">___Exercise 2.1.2___\n",
        ">\n",
        ">Complete the function below so that it returns the product of all numbers up to _n_ included. For example, if _n_ was 11, we would return the result of $1 \\times 3 \\times 5 \\times 7 \\times 9 \\times 11$."
      ]
    },
    {
      "cell_type": "markdown",
      "source": [],
      "metadata": {
        "id": "akyieOFuQYzC"
      }
    },
    {
      "cell_type": "code",
      "metadata": {
        "id": "1hxIrET8H0fD",
        "colab": {
          "base_uri": "https://localhost:8080/"
        },
        "outputId": "7b6682f6-65d2-495b-9f01-06cb7acdbcde"
      },
      "source": [
        "def productOddNumbers(n):\n",
        "    #the keyword 'pass' is used JUST SO that the function isn't empty. An empty function results in an error if you run it.\n",
        "    #once you are ready to complete the function, THEN you can remove this keyword\n",
        "  m = 1\n",
        "  for odd in range(1, n + 1, 2):\n",
        "     m = m * odd \n",
        "\n",
        "  return m\n",
        "  \n",
        "productOddNumbers(11)"
      ],
      "execution_count": 13,
      "outputs": [
        {
          "output_type": "execute_result",
          "data": {
            "text/plain": [
              "10395"
            ]
          },
          "metadata": {},
          "execution_count": 13
        }
      ]
    },
    {
      "cell_type": "code",
      "metadata": {
        "hide_input": true,
        "id": "rQG8axEcH0fE",
        "colab": {
          "base_uri": "https://localhost:8080/",
          "height": 67,
          "referenced_widgets": [
            "3a98c36b81fc44d288467fca7905917a",
            "a44713620ff5471fb561e8a9c5ca6e24",
            "97ce44ec740b4d878d1fd7ec1bdfda52"
          ]
        },
        "outputId": "4e7ee747-cf01-4a78-80e8-8f8c25da6e5a"
      },
      "source": [
        "# Don't make any changes to the tester below. \n",
        "# Just run this code cell to see if your function is correct.\n",
        "\n",
        "from ipywidgets import widgets\n",
        "from IPython.display import display\n",
        "buttonSec212=widgets.Button(description=\"Check my answer\")\n",
        "def evalSection212(b):\n",
        "    if(productOddNumbers(1)==1 and productOddNumbers(5)==1*3*5 and productOddNumbers(14)==1*3*5*7*9*11*13):\n",
        "        print(\"Your answer to 2.1.2 is correct.\")\n",
        "    else:\n",
        "        print(\"Your answer to 2.1.2 is NOT correct.\")\n",
        "    \n",
        "buttonSec212.on_click(evalSection212)\n",
        "display(buttonSec212)"
      ],
      "execution_count": 11,
      "outputs": [
        {
          "output_type": "display_data",
          "data": {
            "text/plain": [
              "Button(description='Check my answer', style=ButtonStyle())"
            ],
            "application/vnd.jupyter.widget-view+json": {
              "version_major": 2,
              "version_minor": 0,
              "model_id": "3a98c36b81fc44d288467fca7905917a"
            }
          },
          "metadata": {}
        },
        {
          "output_type": "stream",
          "name": "stdout",
          "text": [
            "Your answer to 2.1.2 is correct.\n"
          ]
        }
      ]
    },
    {
      "cell_type": "markdown",
      "metadata": {
        "id": "uEnMWGiHH0fE"
      },
      "source": [
        "## 2.2 Conditionals (if/elif/else)\n",
        "Conditionals evaluate the _condition_ you provide, and run when the result is _true_. Typically, you would (hope to) write short conditions, such as:\n",
        "\n",
        "```python\n",
        "i=0\n",
        "j=3\n",
        "if(i>j):\n",
        "    print(\"Condition satisfied\")\n",
        "```\n",
        "However, it frequently happens that your conditions get complicated, such as \"if any one of these variables is zero\", \"at long as at least two of them are positive\", \"if $x$ is in between these two numbers\". Python has some syntax to help you write these conditions (e.g., you _can_ write $a<b<c$), but ultimately you have to _think_ of what to write carefully. The following questions may require using the keywords __or__ as well as __and__ to correctly write conditions.\n",
        "\n",
        ">___Exercise 2.2.1___\n",
        ">\n",
        ">Complete the function below so that it returns $True$ if _at least one_ of the arguments is zero."
      ]
    },
    {
      "cell_type": "code",
      "metadata": {
        "id": "uYk78V6MH0fE",
        "colab": {
          "base_uri": "https://localhost:8080/"
        },
        "outputId": "4dc60452-c3db-4341-f1d1-8d5c0144bcb1"
      },
      "source": [
        "def atLeastOneZero(x,y,z):\n",
        "    if x == 0 or y == 0 or z == 0:\n",
        "      return True\n",
        "    else:\n",
        "      return False\n",
        "\n",
        "atLeastOneZero(1, 2, 3)"
      ],
      "execution_count": 23,
      "outputs": [
        {
          "output_type": "execute_result",
          "data": {
            "text/plain": [
              "False"
            ]
          },
          "metadata": {},
          "execution_count": 23
        }
      ]
    },
    {
      "cell_type": "code",
      "metadata": {
        "hide_input": true,
        "id": "ZdnCdOV_H0fE",
        "outputId": "97401aa0-ef0d-4283-976d-bb8639c513c7",
        "colab": {
          "referenced_widgets": [
            "4ac34c343437448aba553853b8cad181",
            "59758610dff74fb282b8342a8a73cb2f",
            "3b3d5db62b484b1f9ea1e98a10d0c839"
          ],
          "base_uri": "https://localhost:8080/",
          "height": 67
        }
      },
      "source": [
        "# Don't make any changes to the tester below. \n",
        "# Just run this code cell to see if the function is correct.\n",
        "from ipywidgets import widgets\n",
        "from IPython.display import display\n",
        "buttonSec221=widgets.Button(description=\"Check my answer\")\n",
        "def evalSection221(b):\n",
        "    if(atLeastOneZero(0,0,0) and atLeastOneZero(-1,0,4) and (not atLeastOneZero(5,2,1))):\n",
        "        print(\"Your answer to 2.2.1 is correct.\")\n",
        "    else:\n",
        "        print(\"Your answer to 2.2.1 is NOT correct.\")\n",
        "    \n",
        "buttonSec221.on_click(evalSection221)\n",
        "display(buttonSec221)"
      ],
      "execution_count": 24,
      "outputs": [
        {
          "output_type": "display_data",
          "data": {
            "text/plain": [
              "Button(description='Check my answer', style=ButtonStyle())"
            ],
            "application/vnd.jupyter.widget-view+json": {
              "version_major": 2,
              "version_minor": 0,
              "model_id": "4ac34c343437448aba553853b8cad181"
            }
          },
          "metadata": {}
        },
        {
          "output_type": "stream",
          "name": "stdout",
          "text": [
            "Your answer to 2.2.1 is correct.\n"
          ]
        }
      ]
    },
    {
      "cell_type": "markdown",
      "metadata": {
        "id": "n7_yHme0H0fF"
      },
      "source": [
        ">___Exercise 2.2.2___\n",
        ">\n",
        ">Complete the function below so that it returns $True$ if _exactly one_ of the arguments is zero."
      ]
    },
    {
      "cell_type": "code",
      "metadata": {
        "id": "9UXcFh9IH0fF",
        "colab": {
          "base_uri": "https://localhost:8080/"
        },
        "outputId": "d0ccc729-98f8-4e5a-f5eb-a815068f1ae5"
      },
      "source": [
        "def exactlyOneZero(x,y,z):\n",
        "    if x == 0 and y != 0 and z != 0:\n",
        "      return True\n",
        "    elif x !=0 and y == 0 and z != 0:\n",
        "      return True\n",
        "    elif x !=0 and y != 0 and z == 0:\n",
        "      return True\n",
        "    else:\n",
        "      return False\n",
        "\n",
        "exactlyOneZero(1, 3, 2)"
      ],
      "execution_count": 11,
      "outputs": [
        {
          "output_type": "execute_result",
          "data": {
            "text/plain": [
              "False"
            ]
          },
          "metadata": {},
          "execution_count": 11
        }
      ]
    },
    {
      "cell_type": "code",
      "metadata": {
        "hide_input": true,
        "id": "43PwJViRH0fG",
        "outputId": "e77bcc16-1f4d-49b0-ff65-54c3ca437873",
        "colab": {
          "referenced_widgets": [
            "667a908c8f02482c82b58432bc529667",
            "2430b5acc07e475e878e27167eb7ef0d",
            "d1245cc6afff4acbabed45c8170dc98e"
          ],
          "base_uri": "https://localhost:8080/",
          "height": 67
        }
      },
      "source": [
        "# Don't make any changes to the tester below. \n",
        "# Just run this code cell to see if the function is correct.\n",
        "from ipywidgets import widgets\n",
        "from IPython.display import display\n",
        "buttonSec222=widgets.Button(description=\"Check my answer\")\n",
        "def evalSection222(b):\n",
        "    if((not exactlyOneZero\n",
        "        (0,0,0)) and exactlyOneZero(-1,0,4) and (not exactlyOneZero(5,2,1))):\n",
        "        print(\"Your answer to 2.2.2 is correct.\")\n",
        "    else:\n",
        "        print(\"Your answer to 2.2.2 is NOT correct.\")\n",
        "    \n",
        "buttonSec222.on_click(evalSection222)\n",
        "display(buttonSec222)"
      ],
      "execution_count": 12,
      "outputs": [
        {
          "output_type": "display_data",
          "data": {
            "text/plain": [
              "Button(description='Check my answer', style=ButtonStyle())"
            ],
            "application/vnd.jupyter.widget-view+json": {
              "version_major": 2,
              "version_minor": 0,
              "model_id": "667a908c8f02482c82b58432bc529667"
            }
          },
          "metadata": {}
        },
        {
          "output_type": "stream",
          "name": "stdout",
          "text": [
            "Your answer to 2.2.2 is correct.\n"
          ]
        }
      ]
    },
    {
      "cell_type": "markdown",
      "metadata": {
        "id": "4pd4jjM1H0fG"
      },
      "source": [
        ">___Exercise 2.2.3___\n",
        ">\n",
        ">Complete the function below so that it returns $True$ if $z$ is smaller than $y$ but larger than $x$. Do __not__ use the keywords __and__ or __or__."
      ]
    },
    {
      "cell_type": "code",
      "metadata": {
        "id": "E0BCg0pdH0fG",
        "colab": {
          "base_uri": "https://localhost:8080/"
        },
        "outputId": "33854c53-27cd-44dd-989f-a2b044387030"
      },
      "source": [
        "def inBetween(x,y,z):\n",
        "  if x < z < y :\n",
        "    return True\n",
        "  else:\n",
        "    return False\n",
        "    \n",
        "inBetween(1, 7, 5)"
      ],
      "execution_count": null,
      "outputs": [
        {
          "output_type": "execute_result",
          "data": {
            "text/plain": [
              "True"
            ]
          },
          "metadata": {},
          "execution_count": 20
        }
      ]
    },
    {
      "cell_type": "code",
      "metadata": {
        "hide_input": true,
        "id": "5ASmoU6LH0fH",
        "outputId": "3f1ef164-70c6-4fbb-a44e-6e879b9db87c",
        "colab": {
          "referenced_widgets": [
            "64f53ec763bb49608e41979e1d34dcf2",
            "6fdc0168862343a09bdc7d6df1575579",
            "fb72a1502b94486d95fc3d383a29c600"
          ],
          "base_uri": "https://localhost:8080/",
          "height": 66
        }
      },
      "source": [
        "# Don't make any changes to the tester below. \n",
        "# Just run this code cell to see if the function is correct.\n",
        "\n",
        "from ipywidgets import widgets\n",
        "from IPython.display import display\n",
        "buttonSec223=widgets.Button(description=\"Check my answer\")\n",
        "def evalSection223(b):\n",
        "    if(inBetween(1,3,2) and inBetween(-4,10,0) and (not inBetween(3,2,1)) and (not inBetween(1,2,3))):\n",
        "        print(\"Your answer to 2.2.3 is correct.\")\n",
        "    else:\n",
        "        print(\"Your answer to 2.2.2 is NOT correct.\")\n",
        "    \n",
        "buttonSec223.on_click(evalSection223)\n",
        "display(buttonSec223)"
      ],
      "execution_count": null,
      "outputs": [
        {
          "output_type": "display_data",
          "data": {
            "text/plain": [
              "Button(description='Check my answer', style=ButtonStyle())"
            ],
            "application/vnd.jupyter.widget-view+json": {
              "version_major": 2,
              "version_minor": 0,
              "model_id": "64f53ec763bb49608e41979e1d34dcf2"
            }
          },
          "metadata": {}
        },
        {
          "output_type": "stream",
          "name": "stdout",
          "text": [
            "Your answer to 2.2.3 is correct.\n"
          ]
        }
      ]
    },
    {
      "cell_type": "markdown",
      "metadata": {
        "id": "6zatFU-pH0fH"
      },
      "source": [
        "# 2.3 Loops with complex conditions"
      ]
    },
    {
      "cell_type": "markdown",
      "metadata": {
        "id": "eFMa2-BSH0fH"
      },
      "source": [
        ">___Exercise 2.3.1___\n",
        ">\n",
        ">Consider that we have a Marathon with 3 participants, running at 2m/s, 4m/s, and 1.5m/s. The Marathon must stop once __all participants passed the arrival line__ at 2000 meters. Replace the __False__ keyword in the function below so that the loop stops as described. There is nothing else to change in the code."
      ]
    },
    {
      "cell_type": "code",
      "metadata": {
        "id": "E2Rsk2wbH0fH",
        "colab": {
          "base_uri": "https://localhost:8080/"
        },
        "outputId": "c9ea3aa4-bf14-4a0d-a890-54fc6afbdea5"
      },
      "source": [
        "def marathon():\n",
        "    person1=0\n",
        "    person2=0\n",
        "    person3=0\n",
        "    currentTime=0\n",
        "\n",
        "    x = 2000\n",
        "    stop_participants = True\n",
        "\n",
        "    while stop_participants:\n",
        "      if (person1 >= x and person2 >= x and person3 >= x):\n",
        "        stop_participants = False\n",
        "        break\n",
        "      else:\n",
        "        person1 = person1 + 2\n",
        "        person2 = person2 + 4\n",
        "        person3 = person3 + 1.5\n",
        "        currentTime = currentTime + 1\n",
        "    return int(currentTime)\n",
        "\n",
        "marathon()"
      ],
      "execution_count": 15,
      "outputs": [
        {
          "output_type": "execute_result",
          "data": {
            "text/plain": [
              "1334"
            ]
          },
          "metadata": {},
          "execution_count": 15
        }
      ]
    },
    {
      "cell_type": "code",
      "metadata": {
        "hide_input": true,
        "id": "JXES8jFwH0fH",
        "outputId": "cd71ead4-5eec-4745-bb0a-1812a07f23d3",
        "colab": {
          "referenced_widgets": [
            "02eeeb0ae75442e9a945bac7df57e92d",
            "a8f7aca1eb514ccd8afb41c5537ec279",
            "8a03058d3b4b47d3b162343a52fb648c"
          ],
          "base_uri": "https://localhost:8080/",
          "height": 67
        }
      },
      "source": [
        "# Don't make any changes to the tester below. \n",
        "# Just run this code cell to see if the function is correct.\n",
        "\n",
        "from ipywidgets import widgets\n",
        "from IPython.display import display\n",
        "buttonSec231=widgets.Button(description=\"Check my answer\")\n",
        "def evalSection231(b):\n",
        "    if(marathon()==1334):\n",
        "        print(\"Your answer to 2.3.1 is correct.\")\n",
        "    else:\n",
        "        print(\"Your answer to 2.3.1 is NOT correct. It should have been 1334 but you returned\",marathon())\n",
        "    \n",
        "buttonSec231.on_click(evalSection231)\n",
        "display(buttonSec231)"
      ],
      "execution_count": 33,
      "outputs": [
        {
          "output_type": "display_data",
          "data": {
            "text/plain": [
              "Button(description='Check my answer', style=ButtonStyle())"
            ],
            "application/vnd.jupyter.widget-view+json": {
              "version_major": 2,
              "version_minor": 0,
              "model_id": "02eeeb0ae75442e9a945bac7df57e92d"
            }
          },
          "metadata": {}
        },
        {
          "output_type": "stream",
          "name": "stdout",
          "text": [
            "Your answer to 2.3.1 is correct.\n"
          ]
        }
      ]
    },
    {
      "cell_type": "markdown",
      "metadata": {
        "id": "quDkigGAH0fI"
      },
      "source": [
        ">___Exercise 2.3.2___\n",
        ">\n",
        ">Consider that we have a Marathon with 3 participants, running at 2m/s, 4m/s, and 1.5m/s. They're all amateurs, so maybe they won't even make it to the arrival. The Marathon must stop once __all participants passed the arrival line__ at 1000 meters or if they ran for an hour or more. Replace the __False__ keyword in the function below so that the loop stops as described. There is nothing else to change in the code."
      ]
    },
    {
      "cell_type": "code",
      "metadata": {
        "id": "9v7v0IjbH0fI",
        "colab": {
          "base_uri": "https://localhost:8080/"
        },
        "outputId": "4a028cf3-0c24-4abc-d1a9-e013eb3faee9"
      },
      "source": [
        "def marathon2():\n",
        "    person1 = 0\n",
        "    person2 = 0\n",
        "    person3 = 0\n",
        "    currentTime = 0\n",
        "\n",
        "    x = 1000\n",
        "    stop_all = True\n",
        "\n",
        "    while stop_all:\n",
        "        if (person1 >= x and person2 >= x and person3 >= x) or (currentTime >= 3600):\n",
        "            stop_all = False\n",
        "            break\n",
        "        else:\n",
        "            person1 = person1 + 2\n",
        "            person2 = person2 + 4\n",
        "            person3 = person3 + 1.5\n",
        "            currentTime = currentTime + 1\n",
        "    return int(currentTime)\n",
        "\n",
        "marathon2()"
      ],
      "execution_count": 16,
      "outputs": [
        {
          "output_type": "execute_result",
          "data": {
            "text/plain": [
              "667"
            ]
          },
          "metadata": {},
          "execution_count": 16
        }
      ]
    },
    {
      "cell_type": "code",
      "metadata": {
        "hide_input": true,
        "id": "8xQBHcQYH0fI",
        "outputId": "b501a627-9abf-47db-845f-2c4bd866b80a",
        "colab": {
          "referenced_widgets": [
            "fa6299e46d0b4445b7073caffef154fd",
            "32e18ffdb1614fa6a0c4d17d4aed7b1f",
            "8fbd90fb9a064cb5983d67889dc08ed0"
          ],
          "base_uri": "https://localhost:8080/",
          "height": 67
        }
      },
      "source": [
        "# Don't make any changes to the tester below. \n",
        "# Just run this code cell to see if the function is correct.\n",
        "\n",
        "from ipywidgets import widgets\n",
        "from IPython.display import display\n",
        "buttonSec232=widgets.Button(description=\"Check my answer\")\n",
        "def evalSection232(b):\n",
        "    if(marathon2()==667):\n",
        "        print(\"Your answer to 2.3.2 is correct.\")\n",
        "    elif(marathon2()==60):\n",
        "        print(\"Your answer to 2.3.2 is NOT correct. People run in meters per second. The race stops after one hour. How many seconds are there in one hour?\")\n",
        "    else:\n",
        "        print(\"Your answer to 2.3.2 is NOT correct. It should have been 60 but you returned\",marathon2())\n",
        "    \n",
        "buttonSec232.on_click(evalSection232)\n",
        "display(buttonSec232)"
      ],
      "execution_count": 31,
      "outputs": [
        {
          "output_type": "display_data",
          "data": {
            "text/plain": [
              "Button(description='Check my answer', style=ButtonStyle())"
            ],
            "application/vnd.jupyter.widget-view+json": {
              "version_major": 2,
              "version_minor": 0,
              "model_id": "fa6299e46d0b4445b7073caffef154fd"
            }
          },
          "metadata": {}
        },
        {
          "output_type": "stream",
          "name": "stdout",
          "text": [
            "Your answer to 2.3.2 is correct.\n"
          ]
        }
      ]
    },
    {
      "cell_type": "markdown",
      "metadata": {
        "id": "tGo3DUGlH0fI"
      },
      "source": [
        ">___Exercise 2.3.3___\n",
        ">\n",
        ">In her house, Tian has 2 kilos of rice, 500 g of meat and 1 kilo of bok choy. Every day, she eats 300 g of rice, 150 g of meat, and 200 g of bok choy. Because she cooks healthy meals, she needs to have at least two items left. Complete the function below so we know in how many days Tian will need to buy food. Use the previous two exercises as a template."
      ]
    },
    {
      "cell_type": "code",
      "metadata": {
        "id": "-OeucUelH0fJ",
        "colab": {
          "base_uri": "https://localhost:8080/"
        },
        "outputId": "1e1f4d10-5f36-4394-af89-32524988d2c8"
      },
      "source": [
        "def tian():\n",
        "    rice=2000\n",
        "    meat=500\n",
        "    bokchoy=1000\n",
        "    currentDay=0\n",
        "    \n",
        "    while (rice >= 300 and meat >= 150) or (rice >= 300 and bokchoy >= 200) or (meat >=150 and bokchoy >= 200):\n",
        "        currentDay = currentDay + 1\n",
        "        rice = rice - 300\n",
        "        meat = meat - 150\n",
        "        bokchoy = bokchoy - 200\n",
        "    return currentDay\n",
        "   \n",
        "tian()"
      ],
      "execution_count": 17,
      "outputs": [
        {
          "output_type": "execute_result",
          "data": {
            "text/plain": [
              "5"
            ]
          },
          "metadata": {},
          "execution_count": 17
        }
      ]
    },
    {
      "cell_type": "code",
      "metadata": {
        "hide_input": true,
        "id": "tCQe01ktH0fJ",
        "outputId": "129b9d56-9c3f-4497-b1e9-4d947befc9d4",
        "colab": {
          "referenced_widgets": [
            "68d042f2d51f44a794339c447eb71408",
            "02612d9cb95a4ef1bc9436b248b80abc",
            "f358ab177c204eae93133c1cf9f770c9"
          ],
          "base_uri": "https://localhost:8080/",
          "height": 67
        }
      },
      "source": [
        "# Don't make any changes to the tester below. \n",
        "# Just run this code cell to see if the function is correct.\n",
        "from ipywidgets import widgets\n",
        "from IPython.display import display\n",
        "buttonSec233=widgets.Button(description=\"Check my answer\")\n",
        "def evalSection233(b):\n",
        "    if(tian()==5):\n",
        "        print(\"Your answer to 2.3.3 is correct.\")\n",
        "    else:\n",
        "        print(\"Your answer to 2.3.3 is NOT correct. It should have been 5 but you returned\",tian())\n",
        "    \n",
        "buttonSec233.on_click(evalSection233)\n",
        "display(buttonSec233)"
      ],
      "execution_count": 27,
      "outputs": [
        {
          "output_type": "display_data",
          "data": {
            "text/plain": [
              "Button(description='Check my answer', style=ButtonStyle())"
            ],
            "application/vnd.jupyter.widget-view+json": {
              "version_major": 2,
              "version_minor": 0,
              "model_id": "68d042f2d51f44a794339c447eb71408"
            }
          },
          "metadata": {}
        },
        {
          "output_type": "stream",
          "name": "stdout",
          "text": [
            "Your answer to 2.3.3 is correct.\n"
          ]
        }
      ]
    },
    {
      "cell_type": "markdown",
      "metadata": {
        "id": "N3fEO3rBH0fJ"
      },
      "source": [
        "## 2.4 Basic combinatorics\n",
        "When you have a situation with only two possible outcomes (going to school or not) then you just need to use if and else. When your situation has many outcomes, you will need many if and else. For example, we may want to detect whether you cannot go at all, whether you can go as a student, as a teacher, if you should retire, and so on. You can do this using nested if/else, that is, by having if/else inside other if/else. However, that style starts to take a lot of space, since each new 'if' creates additional indentation. It is better to flatten the entire structure using if/elif/else:\n",
        "![Flattened](refresherImg/flat.png)"
      ]
    },
    {
      "cell_type": "markdown",
      "metadata": {
        "id": "Y0wY61_PH0fJ"
      },
      "source": [
        ">___Exercise 2.4.1___\n",
        ">\n",
        ">Complete the function below to return \"A\" for a $GPA \\ge 90$, \"A-\" if it's $\\ge 86$, \"B+\" if it's $\\ge 82$, \"B\" if it's $\\ge 77$, and \"some other grade\" otherwise."
      ]
    },
    {
      "cell_type": "code",
      "metadata": {
        "id": "wYCUucJAH0fJ",
        "colab": {
          "base_uri": "https://localhost:8080/",
          "height": 36
        },
        "outputId": "13245eba-d040-4ab3-aaaa-e08522f27e51"
      },
      "source": [
        "def getGradeCategory(g):\n",
        "  if g >= 90:\n",
        "    return \"A\"\n",
        "  elif g >= 86:\n",
        "    return \"A-\"\n",
        "  elif g >= 82:\n",
        "    return \"B+\"\n",
        "  elif g >= 77:\n",
        "    return \"B\"\n",
        "  else:\n",
        "    return \"some other grade\"\n",
        "\n",
        "getGradeCategory(91)"
      ],
      "execution_count": 18,
      "outputs": [
        {
          "output_type": "execute_result",
          "data": {
            "text/plain": [
              "'A'"
            ],
            "application/vnd.google.colaboratory.intrinsic+json": {
              "type": "string"
            }
          },
          "metadata": {},
          "execution_count": 18
        }
      ]
    },
    {
      "cell_type": "code",
      "metadata": {
        "hide_input": true,
        "id": "tz9Ncr3OH0fJ",
        "outputId": "e2e9a969-9f12-4172-aad6-93cc827be347",
        "colab": {
          "referenced_widgets": [
            "29d37d67a025479ab205f699f5103dc6",
            "3e200328d63f4e8ba2ecd07920016dab",
            "76e06eb725c148139080475a0d1ef023"
          ],
          "base_uri": "https://localhost:8080/",
          "height": 67
        }
      },
      "source": [
        "# Don't make any changes to the tester below. \n",
        "# Just run this code cell to see if the function is correct.\n",
        "\n",
        "from ipywidgets import widgets\n",
        "from IPython.display import display\n",
        "buttonSec241=widgets.Button(description=\"Check my answer\")\n",
        "def evalSection241(b):\n",
        "    if(getGradeCategory(91)==\"A\" and getGradeCategory(87)==\"A-\" and getGradeCategory(82)==\"B+\" and getGradeCategory(79)==\"B\" and getGradeCategory(2)==\"some other grade\"):\n",
        "        print(\"Your answer to 2.4.1 is correct.\")\n",
        "    else:\n",
        "        print(\"Your answer to 2.4.1 is NOT correct.\")\n",
        "    \n",
        "buttonSec241.on_click(evalSection241)\n",
        "display(buttonSec241)"
      ],
      "execution_count": 81,
      "outputs": [
        {
          "output_type": "display_data",
          "data": {
            "text/plain": [
              "Button(description='Check my answer', style=ButtonStyle())"
            ],
            "application/vnd.jupyter.widget-view+json": {
              "version_major": 2,
              "version_minor": 0,
              "model_id": "29d37d67a025479ab205f699f5103dc6"
            }
          },
          "metadata": {}
        },
        {
          "output_type": "stream",
          "name": "stdout",
          "text": [
            "Your answer to 2.4.1 is correct.\n"
          ]
        }
      ]
    },
    {
      "cell_type": "markdown",
      "metadata": {
        "id": "8hwvNg_FH0fK"
      },
      "source": [
        "A nested loop is simply a loop that runs inside another loop. This is very useful when there are two quantities that you need to go through. For example, you might have want to generate what you would do for every day, every week of the semester. You can do it in two functions, one having a loop for days and the other one having a loop for weeks (see below on the left). You can also combine them into one function that has two loops (see below on the right). To do this, you simply put one loop and replace its action by the whole code of the other loop. The example below combines days and weeks:\n",
        "![Flattened](refresherImg/combine.png)\n",
        "A __mistake__ is to create the variable day=1 at the same place as week=1. If you do that, the loop on days will only run only once! Indeed, on the first week we will run all the days, and the green loop will end at day=8. On the second week, we do not reset the value of the day (since it was done outside a loop) so we continue from day=8. Since it is already the last day, the inner green loop will not run."
      ]
    },
    {
      "cell_type": "markdown",
      "metadata": {
        "id": "tBn214VJH0fK"
      },
      "source": [
        ">___Exercise 2.4.2___\n",
        ">\n",
        ">As an example of a nested loop, we will compute how much someone earns in a year. Assume that the person works all days for 5 hours, at 8 dollars per hour. At the end of the month, the person has to give 10% in taxes _for the income made during the money_, so he effectively gets only 90% of his salary. To simplify the problem, assume that all the months have 31 days. Complete the function below."
      ]
    },
    {
      "cell_type": "code",
      "metadata": {
        "id": "wMQINF7OH0fK",
        "colab": {
          "base_uri": "https://localhost:8080/"
        },
        "outputId": "ab442e48-2e1a-4f03-b695-b1b2e75b981f"
      },
      "source": [
        "def moneyInyear():\n",
        "    daily_salary = 0\n",
        "    total_salary_after_tax = 0\n",
        "\n",
        "    work_days = 5\n",
        "    work_hour = 8\n",
        "    \n",
        "    for month in range(0, 12):\n",
        "        for day in range(0, 31):\n",
        "            daily_salary += work_days * work_hour\n",
        "        monthlySalary = daily_salary - (daily_salary * 10 / 100)\n",
        "        daily_salary = 0\n",
        "        total_salary_after_tax += monthlySalary\n",
        "    return total_salary_after_tax\n",
        "\n",
        "moneyInyear()"
      ],
      "execution_count": 5,
      "outputs": [
        {
          "output_type": "execute_result",
          "data": {
            "text/plain": [
              "13392.0"
            ]
          },
          "metadata": {},
          "execution_count": 5
        }
      ]
    },
    {
      "cell_type": "code",
      "metadata": {
        "hide_input": false,
        "id": "knJSlk6PH0fK",
        "outputId": "0e1f5d8c-93cc-432a-ab43-804f8b521afc",
        "colab": {
          "referenced_widgets": [
            "ee08e18ad55d4b93a71621f166db8bbe",
            "d07e287e90944e9588cd6108e89df814",
            "b25fbc4820ac49acbc71f666b4f18cf5"
          ],
          "base_uri": "https://localhost:8080/",
          "height": 67
        }
      },
      "source": [
        "# Don't make any changes to the tester below. \n",
        "# Just run this code cell to see if the atLeastOneZero() function is correct.\n",
        "\n",
        "from ipywidgets import widgets\n",
        "from IPython.display import display\n",
        "buttonSec242=widgets.Button(description=\"Check my answer\")\n",
        "def evalSection242(b):\n",
        "    if(13390 < moneyInyear() < 13395):\n",
        "        print(\"Your answer to 2.4.2 is correct.\")\n",
        "    elif(8000 < moneyInyear() < 8010):\n",
        "        print(\"Your answer to 2.4.2 is NOT correct. You computed that the person gives 10% of everything ever earned, each month. That's a lot more than giving up 10% of what you earned during a month. Try using another variable that keeps track of monthly earnings and subtracts 10% from that, before adding it to total earnings.\")\n",
        "    else:\n",
        "        print(\"Your answer to 2.4.2 is NOT correct. It should have been 346.26526471883005, but you returned\", moneyInyear())\n",
        "    \n",
        "buttonSec242.on_click(evalSection242)\n",
        "display(buttonSec242)"
      ],
      "execution_count": 6,
      "outputs": [
        {
          "output_type": "display_data",
          "data": {
            "text/plain": [
              "Button(description='Check my answer', style=ButtonStyle())"
            ],
            "application/vnd.jupyter.widget-view+json": {
              "version_major": 2,
              "version_minor": 0,
              "model_id": "ee08e18ad55d4b93a71621f166db8bbe"
            }
          },
          "metadata": {}
        },
        {
          "output_type": "stream",
          "name": "stdout",
          "text": [
            "Your answer to 2.4.2 is correct.\n"
          ]
        }
      ]
    },
    {
      "cell_type": "markdown",
      "metadata": {
        "id": "OxQy_3IaH0fK"
      },
      "source": [
        "Imagine that you are playing a little lottery. You can choose two numbers from 1 to 50. How many possibilities are there? You could write a nested loop to know that (or just know that the answer is $50 \\times 50$ but that's not the point). The code will show you that there are 2500 possibilities.\n",
        "\n",
        "Now, what if you could playing the lottery, but the numbers you pick must be different? You _could_ know combinatorics, or you could use nested loops to compute it as follows:\n",
        "```python\n",
        "possibilities=0\n",
        "number1=1\n",
        "while number1<51:\n",
        "    number2=1\n",
        "    while number2<51:\n",
        "        if number1 != number2:\n",
        "            possibilities=possibilities+1\n",
        "        number2=number2+1\n",
        "    number1=number1+1\n",
        "print(\"There are\", possibilities, \"possibilities\")\n",
        "```"
      ]
    },
    {
      "cell_type": "markdown",
      "metadata": {
        "id": "fPWG14Q3H0fK"
      },
      "source": [
        ">___Exercise 2.4.3___\n",
        ">\n",
        ">Imagine yet another variation of the lottery problem in which you can pick any two numbers you want (and they can be the same) as long as they add up to 50. For example, you could pick 25 twice (because 25 + 25 = 50), 30 and 20, or 20 and 30 (because 30 + 20 = 50). Adapt the code below to reflect this condition."
      ]
    },
    {
      "cell_type": "code",
      "metadata": {
        "id": "s3p8o2N-H0fK",
        "outputId": "90a1a8fb-6c98-4f44-f087-deb70210444f",
        "colab": {
          "base_uri": "https://localhost:8080/"
        }
      },
      "source": [
        "def lotteryProblem():\n",
        "  possibilities = 0\n",
        "  number1 = 1\n",
        "  while number1 < 51:\n",
        "    number2 = 1\n",
        "    while number2 < 51:\n",
        "      if number1 != number2 or number1 == number2:\n",
        "        possibilities = possibilities + 1\n",
        "      number2 = number2 + 1\n",
        "    number1 = number1 + 1\n",
        "  print(\"Thare are\", possibilities, \"possibilities\")\n",
        "\n",
        "lotteryProblem()"
      ],
      "execution_count": 17,
      "outputs": [
        {
          "output_type": "stream",
          "name": "stdout",
          "text": [
            "Thare are 2500 possibilities\n"
          ]
        }
      ]
    },
    {
      "cell_type": "markdown",
      "metadata": {
        "id": "0AIvQ2ZLH0fL"
      },
      "source": [
        "If you want more problems to train, imagine that Mrs Zhen asks a farmer to send her a basket containing 10 items, which can be either onions, carrots, or a mix of both. Write a code using nested loops to know how many different baskets there are. Then, write a code to also know how many different baskets there are, but by using only one loop."
      ]
    },
    {
      "cell_type": "markdown",
      "metadata": {
        "id": "ZdekoZquH0fL"
      },
      "source": [
        "---\n",
        "***\n",
        "__Are you all done? Then you can <font color='red'>save the work and submit it on Canvas</font>.__\n"
      ]
    }
  ]
}